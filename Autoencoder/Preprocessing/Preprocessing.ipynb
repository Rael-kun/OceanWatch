{
 "cells": [
  {
   "cell_type": "markdown",
   "metadata": {},
   "source": [
    "# Read in data, remove unnecessary columns\n",
    "We are keeping Latitude, Longitude, Speed, Heading, MMSI, and the Timestamp"
   ]
  },
  {
   "cell_type": "code",
   "execution_count": 3,
   "metadata": {},
   "outputs": [
    {
     "name": "stderr",
     "output_type": "stream",
     "text": [
      "C:\\Users\\DSU\\AppData\\Local\\Temp\\ipykernel_25208\\3187478731.py:4: DtypeWarning: Columns (15) have mixed types. Specify dtype option on import or set low_memory=False.\n",
      "  data = pd.read_csv(\"C:\\\\Users\\\\DSU\\\\Desktop\\\\AllCurrentClasses\\\\AISweden\\\\FinalDeliverable\\\\BalticDataTrain\\\\training_set.csv\")\n"
     ]
    },
    {
     "data": {
      "text/html": [
       "<div>\n",
       "<style scoped>\n",
       "    .dataframe tbody tr th:only-of-type {\n",
       "        vertical-align: middle;\n",
       "    }\n",
       "\n",
       "    .dataframe tbody tr th {\n",
       "        vertical-align: top;\n",
       "    }\n",
       "\n",
       "    .dataframe thead th {\n",
       "        text-align: right;\n",
       "    }\n",
       "</style>\n",
       "<table border=\"1\" class=\"dataframe\">\n",
       "  <thead>\n",
       "    <tr style=\"text-align: right;\">\n",
       "      <th></th>\n",
       "      <th>timestamp</th>\n",
       "      <th>mmsi</th>\n",
       "      <th>lat</th>\n",
       "      <th>lon</th>\n",
       "      <th>speed</th>\n",
       "      <th>heading</th>\n",
       "    </tr>\n",
       "  </thead>\n",
       "  <tbody>\n",
       "    <tr>\n",
       "      <th>0</th>\n",
       "      <td>2017-11-02 11:19:07</td>\n",
       "      <td>205366000</td>\n",
       "      <td>54.347242</td>\n",
       "      <td>9.991140</td>\n",
       "      <td>4.01</td>\n",
       "      <td>56.0</td>\n",
       "    </tr>\n",
       "    <tr>\n",
       "      <th>1</th>\n",
       "      <td>2017-11-02 11:30:58</td>\n",
       "      <td>205366000</td>\n",
       "      <td>54.360348</td>\n",
       "      <td>10.025337</td>\n",
       "      <td>4.17</td>\n",
       "      <td>81.0</td>\n",
       "    </tr>\n",
       "    <tr>\n",
       "      <th>2</th>\n",
       "      <td>2017-11-02 11:37:58</td>\n",
       "      <td>205366000</td>\n",
       "      <td>54.359573</td>\n",
       "      <td>10.049203</td>\n",
       "      <td>4.48</td>\n",
       "      <td>92.0</td>\n",
       "    </tr>\n",
       "    <tr>\n",
       "      <th>3</th>\n",
       "      <td>2017-11-02 11:44:07</td>\n",
       "      <td>205366000</td>\n",
       "      <td>54.365497</td>\n",
       "      <td>10.071320</td>\n",
       "      <td>3.81</td>\n",
       "      <td>46.0</td>\n",
       "    </tr>\n",
       "    <tr>\n",
       "      <th>4</th>\n",
       "      <td>2017-11-02 11:56:08</td>\n",
       "      <td>205366000</td>\n",
       "      <td>54.370437</td>\n",
       "      <td>10.109498</td>\n",
       "      <td>2.73</td>\n",
       "      <td>103.0</td>\n",
       "    </tr>\n",
       "  </tbody>\n",
       "</table>\n",
       "</div>"
      ],
      "text/plain": [
       "             timestamp       mmsi        lat        lon  speed  heading\n",
       "0  2017-11-02 11:19:07  205366000  54.347242   9.991140   4.01     56.0\n",
       "1  2017-11-02 11:30:58  205366000  54.360348  10.025337   4.17     81.0\n",
       "2  2017-11-02 11:37:58  205366000  54.359573  10.049203   4.48     92.0\n",
       "3  2017-11-02 11:44:07  205366000  54.365497  10.071320   3.81     46.0\n",
       "4  2017-11-02 11:56:08  205366000  54.370437  10.109498   2.73    103.0"
      ]
     },
     "execution_count": 3,
     "metadata": {},
     "output_type": "execute_result"
    }
   ],
   "source": [
    "import pandas as pd\n",
    "import numpy as np\n",
    "\n",
    "data = pd.read_csv(\"C:\\\\Users\\\\DSU\\\\Desktop\\\\AllCurrentClasses\\\\AISweden\\\\FinalDeliverable\\\\BalticDataTrain\\\\training_set.csv\")\n",
    "\n",
    "data = data[[\"timestamp\", \"mmsi\", \"lat\", \"lon\", \"speed\", \"heading\"]]\n",
    "data.head()"
   ]
  },
  {
   "cell_type": "markdown",
   "metadata": {},
   "source": [
    "# Remove null values, if any exist"
   ]
  },
  {
   "cell_type": "code",
   "execution_count": 4,
   "metadata": {},
   "outputs": [],
   "source": [
    "data.dropna(inplace=True)"
   ]
  },
  {
   "cell_type": "markdown",
   "metadata": {},
   "source": [
    "# Remove all speeds over 50 knots"
   ]
  },
  {
   "cell_type": "code",
   "execution_count": 5,
   "metadata": {},
   "outputs": [],
   "source": [
    "data = data[data[\"speed\"] <= 50]"
   ]
  },
  {
   "cell_type": "markdown",
   "metadata": {},
   "source": [
    "# Convert timestamp to seconds"
   ]
  },
  {
   "cell_type": "code",
   "execution_count": 6,
   "metadata": {},
   "outputs": [],
   "source": [
    "# figure out time passed\n",
    "from datetime import datetime\n",
    "\n",
    "data[\"timePassed\"] = 0\n",
    "\n",
    "for i in range(len(data[\"timestamp\"])):\n",
    "    dateObj = datetime.strptime(data.iloc[i, data.columns.get_loc(\"timestamp\")], '%Y-%m-%d %H:%M:%S')\n",
    "    data.iloc[i, data.columns.get_loc(\"timePassed\")] = dateObj.timestamp()"
   ]
  },
  {
   "cell_type": "markdown",
   "metadata": {},
   "source": [
    "# Sort first by MMSI and second by timestamp\n",
    "# Then calculate timestep inbetween each message\n",
    "# Whenever mmsi changes or the timestep goes over the limit (1 hr in our case) increment a path counter"
   ]
  },
  {
   "cell_type": "code",
   "execution_count": 7,
   "metadata": {},
   "outputs": [],
   "source": [
    "# Sort\n",
    "data.sort_values(by=[\"mmsi\", \"timePassed\"], inplace=True)\n",
    "\n",
    "# Initialize data and variables for timestep\n",
    "data[\"timeStep\"] = 0\n",
    "lastTime = -1\n",
    "mmsiOn = -1\n",
    "# Initialize data and variables for pathCounter\n",
    "data[\"path\"] = 0\n",
    "pathCounter = -1\n",
    "maxTime = 3600\n",
    "\n",
    "\n",
    "for i in range(len(data[\"timestamp\"])):\n",
    "    row = data.iloc[i]\n",
    "    mmsi = row[\"mmsi\"]\n",
    "    timePassed = row[\"timePassed\"]\n",
    "    \n",
    "    if(mmsi != mmsiOn): # If the mmsi has changed\n",
    "        pathCounter += 1\n",
    "        mmsiOn = mmsi\n",
    "        lastTime = timePassed\n",
    "    if((timePassed - lastTime) > maxTime): # If the time goes over the limit\n",
    "        pathCounter += 1\n",
    "        lastTime = timePassed\n",
    "\n",
    "    # update with new time\n",
    "    data.iloc[i, data.columns.get_loc(\"timeStep\")] = timePassed - lastTime\n",
    "    # update with the pathCounter\n",
    "    data.iloc[i, data.columns.get_loc(\"path\")] = pathCounter\n",
    "    # reset lastTime\n",
    "    lastTime = timePassed"
   ]
  },
  {
   "cell_type": "markdown",
   "metadata": {},
   "source": [
    "# Calculate path length and store them to a table"
   ]
  },
  {
   "cell_type": "code",
   "execution_count": 8,
   "metadata": {},
   "outputs": [],
   "source": [
    "# Table to use\n",
    "pathCounts = pd.DataFrame(columns=[\"path\", \"pathLength\"])\n",
    "\n",
    "# Variables\n",
    "pathOn = 0\n",
    "pathLength = 0\n",
    "\n",
    "for i in range(len(data[\"path\"])):\n",
    "    row = data.iloc[i]\n",
    "\n",
    "    if(pathOn != row[\"path\"]): # New path reached\n",
    "        # Save path to table\n",
    "        pathCounts.loc[len(pathCounts)] = [pathOn, pathLength]\n",
    "        # Reset variables\n",
    "        pathOn = row[\"path\"]\n",
    "        pathLength = 0\n",
    "    pathLength += 1"
   ]
  },
  {
   "cell_type": "markdown",
   "metadata": {},
   "source": [
    "# Create a threshold for path length\n",
    "Our model uses path lengths of 24 to 144. Since the paths are on average about 10 minutes apart, this means that the paths generally have a timeframe of 240 to 1440 minutes, or 6 to 36 hours of points. Since we are examining longer paths, this works well for us."
   ]
  },
  {
   "cell_type": "code",
   "execution_count": 9,
   "metadata": {},
   "outputs": [],
   "source": [
    "pathMin = 24\n",
    "pathMax = 144\n",
    "pathElim = []\n",
    "\n",
    "for i in range(len(pathCounts[\"path\"])):\n",
    "    row = pathCounts.iloc[i]\n",
    "    if(row[\"pathLength\"] < pathMin or row[\"pathLength\"] > pathMax):\n",
    "        # Setup path for elimination, it is too big or too small\n",
    "        pathElim.append(row[\"path\"])\n"
   ]
  },
  {
   "cell_type": "code",
   "execution_count": 12,
   "metadata": {},
   "outputs": [
    {
     "name": "stdout",
     "output_type": "stream",
     "text": [
      "Original Count of Paths:  201782\n",
      "Paths of Invalid Size:  187297\n",
      "Paths Left:  14485\n"
     ]
    }
   ],
   "source": [
    "print(\"Original Count of Paths: \", len(pathCounts[\"path\"]))\n",
    "print(\"Paths of Invalid Size: \", len(pathElim))\n",
    "print(\"Paths Left: \", len(pathCounts[\"path\"]) - len(pathElim))"
   ]
  },
  {
   "cell_type": "markdown",
   "metadata": {},
   "source": [
    "# Remove paths that are too small\n",
    "This is done now so that the rest of the preprocessing steps do not take too long."
   ]
  },
  {
   "cell_type": "code",
   "execution_count": 14,
   "metadata": {},
   "outputs": [
    {
     "name": "stdout",
     "output_type": "stream",
     "text": [
      "Points to iterate through:  13828475\n",
      "Points completed:  0\n",
      "Points completed:  100000\n",
      "Points completed:  200000\n",
      "Points completed:  300000\n",
      "Points completed:  400000\n",
      "Points completed:  500000\n",
      "Points completed:  600000\n",
      "Points completed:  700000\n",
      "Points completed:  800000\n",
      "Points completed:  900000\n",
      "Points completed:  1000000\n",
      "Points completed:  1100000\n",
      "Points completed:  1200000\n",
      "Points completed:  1300000\n",
      "Points completed:  1400000\n",
      "Points completed:  1500000\n",
      "Points completed:  1600000\n",
      "Points completed:  1700000\n",
      "Points completed:  1800000\n",
      "Points completed:  1900000\n",
      "Points completed:  2000000\n",
      "Points completed:  2100000\n",
      "Points completed:  2200000\n",
      "Points completed:  2300000\n",
      "Points completed:  2400000\n",
      "Points completed:  2500000\n",
      "Points completed:  2600000\n",
      "Points completed:  2700000\n",
      "Points completed:  2800000\n",
      "Points completed:  2900000\n",
      "Points completed:  3000000\n",
      "Points completed:  3100000\n",
      "Points completed:  3200000\n",
      "Points completed:  3300000\n",
      "Points completed:  3400000\n",
      "Points completed:  3500000\n",
      "Points completed:  3600000\n",
      "Points completed:  3700000\n",
      "Points completed:  3800000\n",
      "Points completed:  3900000\n",
      "Points completed:  4000000\n",
      "Points completed:  4100000\n",
      "Points completed:  4200000\n",
      "Points completed:  4300000\n",
      "Points completed:  4400000\n",
      "Points completed:  4500000\n",
      "Points completed:  4600000\n",
      "Points completed:  4700000\n",
      "Points completed:  4800000\n",
      "Points completed:  4900000\n",
      "Points completed:  5000000\n",
      "Points completed:  5100000\n",
      "Points completed:  5200000\n",
      "Points completed:  5300000\n",
      "Points completed:  5400000\n",
      "Points completed:  5500000\n",
      "Points completed:  5600000\n",
      "Points completed:  5700000\n",
      "Points completed:  5800000\n",
      "Points completed:  5900000\n",
      "Points completed:  6000000\n",
      "Points completed:  6100000\n",
      "Points completed:  6200000\n",
      "Points completed:  6300000\n",
      "Points completed:  6400000\n",
      "Points completed:  6500000\n",
      "Points completed:  6600000\n",
      "Points completed:  6700000\n",
      "Points completed:  6800000\n",
      "Points completed:  6900000\n",
      "Points completed:  7000000\n",
      "Points completed:  7100000\n",
      "Points completed:  7200000\n",
      "Points completed:  7300000\n",
      "Points completed:  7400000\n",
      "Points completed:  7500000\n",
      "Points completed:  7600000\n",
      "Points completed:  7700000\n",
      "Points completed:  7800000\n",
      "Points completed:  7900000\n",
      "Points completed:  8000000\n",
      "Points completed:  8100000\n",
      "Points completed:  8200000\n",
      "Points completed:  8300000\n",
      "Points completed:  8400000\n",
      "Points completed:  8500000\n",
      "Points completed:  8600000\n",
      "Points completed:  8700000\n",
      "Points completed:  8800000\n",
      "Points completed:  8900000\n",
      "Points completed:  9000000\n",
      "Points completed:  9100000\n",
      "Points completed:  9200000\n",
      "Points completed:  9300000\n",
      "Points completed:  9400000\n",
      "Points completed:  9500000\n",
      "Points completed:  9600000\n",
      "Points completed:  9700000\n",
      "Points completed:  9800000\n",
      "Points completed:  9900000\n",
      "Points completed:  10000000\n",
      "Points completed:  10100000\n",
      "Points completed:  10200000\n",
      "Points completed:  10300000\n",
      "Points completed:  10400000\n",
      "Points completed:  10500000\n",
      "Points completed:  10600000\n",
      "Points completed:  10700000\n",
      "Points completed:  10800000\n",
      "Points completed:  10900000\n",
      "Points completed:  11000000\n",
      "Points completed:  11100000\n",
      "Points completed:  11200000\n",
      "Points completed:  11300000\n",
      "Points completed:  11400000\n",
      "Points completed:  11500000\n",
      "Points completed:  11600000\n",
      "Points completed:  11700000\n",
      "Points completed:  11800000\n",
      "Points completed:  11900000\n",
      "Points completed:  12000000\n",
      "Points completed:  12100000\n",
      "Points completed:  12200000\n",
      "Points completed:  12300000\n",
      "Points completed:  12400000\n",
      "Points completed:  12500000\n",
      "Points completed:  12600000\n",
      "Points completed:  12700000\n",
      "Points completed:  12800000\n",
      "Points completed:  12900000\n",
      "Points completed:  13000000\n",
      "Points completed:  13100000\n",
      "Points completed:  13200000\n",
      "Points completed:  13300000\n",
      "Points completed:  13400000\n",
      "Points completed:  13500000\n",
      "Points completed:  13600000\n",
      "Points completed:  13700000\n",
      "Points completed:  13800000\n"
     ]
    },
    {
     "ename": "IndexError",
     "evalue": "list index out of range",
     "output_type": "error",
     "traceback": [
      "\u001b[1;31m---------------------------------------------------------------------------\u001b[0m",
      "\u001b[1;31mIndexError\u001b[0m                                Traceback (most recent call last)",
      "Cell \u001b[1;32mIn[14], line 11\u001b[0m\n\u001b[0;32m      9\u001b[0m \u001b[38;5;28;01mif\u001b[39;00m(row[\u001b[38;5;124m\"\u001b[39m\u001b[38;5;124mpath\u001b[39m\u001b[38;5;124m\"\u001b[39m] \u001b[38;5;241m>\u001b[39m pathElim[indexT]):\n\u001b[0;32m     10\u001b[0m     indexT \u001b[38;5;241m+\u001b[39m\u001b[38;5;241m=\u001b[39m \u001b[38;5;241m1\u001b[39m\n\u001b[1;32m---> 11\u001b[0m \u001b[38;5;28;01mif\u001b[39;00m(row[\u001b[38;5;124m\"\u001b[39m\u001b[38;5;124mpath\u001b[39m\u001b[38;5;124m\"\u001b[39m] \u001b[38;5;241m==\u001b[39m \u001b[43mpathElim\u001b[49m\u001b[43m[\u001b[49m\u001b[43mindexT\u001b[49m\u001b[43m]\u001b[49m):\n\u001b[0;32m     12\u001b[0m     data\u001b[38;5;241m.\u001b[39miloc[i, data\u001b[38;5;241m.\u001b[39mcolumns\u001b[38;5;241m.\u001b[39mget_loc(\u001b[38;5;124m\"\u001b[39m\u001b[38;5;124mElim\u001b[39m\u001b[38;5;124m\"\u001b[39m)] \u001b[38;5;241m=\u001b[39m \u001b[38;5;241m1\u001b[39m\n\u001b[0;32m     13\u001b[0m \u001b[38;5;28;01mif\u001b[39;00m(i \u001b[38;5;241m%\u001b[39m \u001b[38;5;241m100000\u001b[39m \u001b[38;5;241m==\u001b[39m \u001b[38;5;241m0\u001b[39m):\n",
      "\u001b[1;31mIndexError\u001b[0m: list index out of range"
     ]
    }
   ],
   "source": [
    "data[\"Elim\"] = 0\n",
    "print(\"Points to iterate through: \", len(data[\"mmsi\"]))\n",
    "\n",
    "indexT = 0\n",
    "for i in range(len(data[\"mmsi\"])):\n",
    "    # cycle through all points\n",
    "    row = data.iloc[i]\n",
    "\n",
    "    if(row[\"path\"] > pathElim[indexT]):\n",
    "        indexT += 1\n",
    "    if(row[\"path\"] == pathElim[indexT]):\n",
    "        data.iloc[i, data.columns.get_loc(\"Elim\")] = 1\n",
    "    if(i % 100000 == 0):\n",
    "        print(\"Points completed: \", i)"
   ]
  },
  {
   "cell_type": "code",
   "execution_count": 15,
   "metadata": {},
   "outputs": [],
   "source": [
    "# Keep only data not set to be eliminated\n",
    "data = data[data[\"Elim\"] == 0]"
   ]
  },
  {
   "cell_type": "markdown",
   "metadata": {},
   "source": [
    "# Eliminate Invalid Points\n",
    "A point is invalid if it travels over a speed of 40 knots using the distance traveled between timesteps (NOT using the speed column)"
   ]
  },
  {
   "cell_type": "code",
   "execution_count": 31,
   "metadata": {},
   "outputs": [],
   "source": [
    "import math\n",
    "# Function to calculate distance/speed of ship between timestamps\n",
    "def DistSpeed(latOld, lonOld, latNew, lonNew, timePassed):\n",
    "    # first calculate distance\n",
    "    d = (math.sin(math.radians(latOld)) * math.sin(math.radians(latNew))) + (math.cos(math.radians(latOld)) * math.cos(math.radians(latNew))) * (math.cos(math.radians(lonNew) - math.radians(lonOld)))\n",
    "    if(d > 1):\n",
    "        d = 1\n",
    "    dist = math.acos(d) * 6371\n",
    "    # convert from km to nautical miles\n",
    "    nauticalMiles = dist * 0.5399568035\n",
    "    # divide distance by timePassed to get knots, formula: distance * 3600 / timePassed (since timePassed is in seconds)\n",
    "    speed = nauticalMiles * 3600 / timePassed\n",
    "    return speed\n",
    "\n",
    "latOld = 0\n",
    "lonOld = 0\n",
    "pathOn = -1\n",
    "timeOld = 0\n",
    "\n",
    "for i in range(len(data[\"path\"])):\n",
    "    row = data.iloc[i]\n",
    "    # unnomralize values\n",
    "    if(row[\"path\"] == pathOn):\n",
    "        # Calculate speed\n",
    "        speed = DistSpeed(latOld, lonOld, row[\"lat\"], row[\"lon\"], row[\"timeStep\"])\n",
    "        if(speed > 40):\n",
    "            # speed > 40 knots, probably not a valid point\n",
    "            data.iloc[i, data.columns.get_loc(\"Elim\")] = 1\n",
    "    else:\n",
    "        # skip check step, update pathOn\n",
    "        pathOn = row[\"path\"]\n",
    "\n",
    "    # at end, set up latOld and lonOld\n",
    "    latOld = row[\"lat\"]\n",
    "    lonOld = row[\"lon\"]\n",
    "    "
   ]
  },
  {
   "cell_type": "code",
   "execution_count": 32,
   "metadata": {},
   "outputs": [
    {
     "name": "stdout",
     "output_type": "stream",
     "text": [
      "Series([], Name: path, dtype: int64)\n"
     ]
    }
   ],
   "source": [
    "pathsE = data[data[\"Elim\"] == 1][\"path\"]\n",
    "print(pathsE)\n",
    "for i in pathsE:\n",
    "    data = data[data[\"path\"] != i]"
   ]
  },
  {
   "cell_type": "code",
   "execution_count": 43,
   "metadata": {},
   "outputs": [
    {
     "data": {
      "image/png": "[encoded data removed]",
      "text/plain": [
       "<Figure size 640x480 with 1 Axes>"
      ]
     },
     "metadata": {},
     "output_type": "display_data"
    }
   ],
   "source": [
    "import matplotlib.pyplot as plt\n",
    "arrMmsi = pd.unique(data[\"path\"])\n",
    "for i in range(2000):\n",
    "    mmsi = arrMmsi[i]\n",
    "    tmp = data[data[\"path\"] == mmsi]\n",
    "    x = tmp[\"lon\"]\n",
    "    y = tmp[\"lat\"]\n",
    "    plt.plot(x, y, \"-\")\n",
    "\n",
    "#data[]\n",
    "#x = data[\"lon\"]\n",
    "#y = data[\"lat\"]\n",
    "#plt.plot(x, y, \"-\")\n",
    "plt.show()\n"
   ]
  },
  {
   "cell_type": "code",
   "execution_count": 17,
   "metadata": {},
   "outputs": [],
   "source": [
    "# Keep only data not set to be eliminated\n",
    "data = data[data[\"Elim\"] == 0]"
   ]
  },
  {
   "cell_type": "markdown",
   "metadata": {},
   "source": [
    "# Normalize Data\n",
    "Lat = (lat - lat_min) / (lat_max-lat_min)\n",
    "Lon = (lon - lon_min) / (lon_max-lon_min)\n",
    "Speed = speed / 50\n",
    "Heading = heading / 360"
   ]
  },
  {
   "cell_type": "code",
   "execution_count": 18,
   "metadata": {},
   "outputs": [],
   "source": [
    "lat_min = 53.4\n",
    "lat_max = 66.2\n",
    "lon_min = 9.4\n",
    "lon_max = 30.5\n",
    "maxSpeed = 50\n",
    "maxHeading = 360\n",
    "data[\"alat\"] = 0.0\n",
    "data[\"alon\"] = 0.0\n",
    "data[\"aspeed\"] = 0.0\n",
    "data[\"aheading\"] = 0.0\n",
    "\n",
    "for i in range(len(data[\"mmsi\"])):\n",
    "    row = data.iloc[i]\n",
    "\n",
    "    data.iloc[i, data.columns.get_loc(\"alat\")] = (row[\"lat\"] - lat_min) / (lat_max - lat_min)\n",
    "    data.iloc[i, data.columns.get_loc(\"alon\")] = (row[\"lon\"] - lon_min) / (lon_max - lon_min)\n",
    "    data.iloc[i, data.columns.get_loc(\"aspeed\")] = row[\"speed\"] / maxSpeed\n",
    "    data.iloc[i, data.columns.get_loc(\"aheading\")] = row[\"heading\"] / maxHeading\n",
    "    "
   ]
  },
  {
   "cell_type": "markdown",
   "metadata": {},
   "source": [
    "# Split Train, Test, and Validate (We use 80-10-10 splits)"
   ]
  },
  {
   "cell_type": "code",
   "execution_count": 22,
   "metadata": {},
   "outputs": [
    {
     "name": "stdout",
     "output_type": "stream",
     "text": [
      "80%:  879844.0\n",
      "10%:  989824.5\n"
     ]
    }
   ],
   "source": [
    "trainCount = len(data[\"mmsi\"]) * 0.8\n",
    "testValCount = len(data[\"mmsi\"]) * 0.1\n",
    "print(\"80%: \", trainCount)\n",
    "print(\"10%: \", trainCount + testValCount)\n",
    "trainPath = data.iloc[int(trainCount), data.columns.get_loc(\"path\")]\n",
    "valPath = data.iloc[int(trainCount + testValCount), data.columns.get_loc(\"path\")]\n",
    "testValData = data[data[\"path\"] > trainPath]\n",
    "\n",
    "dataTrain = data[data[\"path\"] <= trainPath]\n",
    "dataVal = testValData[testValData[\"path\"] <= valPath]\n",
    "dataTest = testValData[testValData[\"path\"] > valPath]"
   ]
  },
  {
   "cell_type": "markdown",
   "metadata": {},
   "source": [
    "# Create a new count called \"pathIni\" which will re-index the paths starting from zero for each dataset\n",
    "This will be important later, because the dictionary that these paths are being stored by will use pathIni as an index."
   ]
  },
  {
   "cell_type": "code",
   "execution_count": 26,
   "metadata": {},
   "outputs": [
    {
     "name": "stderr",
     "output_type": "stream",
     "text": [
      "C:\\Users\\DSU\\AppData\\Local\\Temp\\ipykernel_25208\\1845290269.py:2: SettingWithCopyWarning: \n",
      "A value is trying to be set on a copy of a slice from a DataFrame.\n",
      "Try using .loc[row_indexer,col_indexer] = value instead\n",
      "\n",
      "See the caveats in the documentation: https://pandas.pydata.org/pandas-docs/stable/user_guide/indexing.html#returning-a-view-versus-a-copy\n",
      "  dataTrain[\"pathIni\"] = 0\n",
      "C:\\Users\\DSU\\AppData\\Local\\Temp\\ipykernel_25208\\1845290269.py:14: SettingWithCopyWarning: \n",
      "A value is trying to be set on a copy of a slice from a DataFrame.\n",
      "Try using .loc[row_indexer,col_indexer] = value instead\n",
      "\n",
      "See the caveats in the documentation: https://pandas.pydata.org/pandas-docs/stable/user_guide/indexing.html#returning-a-view-versus-a-copy\n",
      "  dataVal[\"pathIni\"] = 0\n",
      "C:\\Users\\DSU\\AppData\\Local\\Temp\\ipykernel_25208\\1845290269.py:26: SettingWithCopyWarning: \n",
      "A value is trying to be set on a copy of a slice from a DataFrame.\n",
      "Try using .loc[row_indexer,col_indexer] = value instead\n",
      "\n",
      "See the caveats in the documentation: https://pandas.pydata.org/pandas-docs/stable/user_guide/indexing.html#returning-a-view-versus-a-copy\n",
      "  dataTest[\"pathIni\"] = 0\n"
     ]
    }
   ],
   "source": [
    "# Train\n",
    "dataTrain[\"pathIni\"] = 0\n",
    "pathOn = -1\n",
    "pathIndex = -1\n",
    "\n",
    "for i in range(len(dataTrain[\"path\"])):\n",
    "    path = dataTrain.iloc[i, dataTrain.columns.get_loc(\"path\")]\n",
    "    if(pathOn != path):\n",
    "        pathOn = path\n",
    "        pathIndex += 1\n",
    "    dataTrain.iloc[i, dataTrain.columns.get_loc(\"pathIni\")] = pathIndex\n",
    "\n",
    "# Validate\n",
    "dataVal[\"pathIni\"] = 0\n",
    "pathOn = -1\n",
    "pathIndex = -1\n",
    "\n",
    "for i in range(len(dataVal[\"path\"])):\n",
    "    path = dataVal.iloc[i, dataVal.columns.get_loc(\"path\")]\n",
    "    if(pathOn != path):\n",
    "        pathOn = path\n",
    "        pathIndex += 1\n",
    "    dataVal.iloc[i, dataVal.columns.get_loc(\"pathIni\")] = pathIndex\n",
    "\n",
    "# Test\n",
    "dataTest[\"pathIni\"] = 0\n",
    "pathOn = -1\n",
    "pathIndex = -1\n",
    "\n",
    "for i in range(len(dataTest[\"path\"])):\n",
    "    path = dataTest.iloc[i, dataTest.columns.get_loc(\"path\")]\n",
    "    if(pathOn != path):\n",
    "        pathOn = path\n",
    "        pathIndex += 1\n",
    "    dataTest.iloc[i, dataTest.columns.get_loc(\"pathIni\")] = pathIndex"
   ]
  },
  {
   "cell_type": "markdown",
   "metadata": {},
   "source": [
    "# Add pathTime, which will hold the time since the path's beggining. This can be useful to add to the positional encoding to get more accurate results, since each point has its own timeStep. "
   ]
  },
  {
   "cell_type": "code",
   "execution_count": 20,
   "metadata": {},
   "outputs": [],
   "source": [
    "dataTrain[\"pathTime\"] = 0\n",
    "pathOn = -1\n",
    "totalTime = 0\n",
    "\n",
    "for i in range(len(dataTrain[\"pathTime\"])):\n",
    "    row = dataTrain.iloc[i]\n",
    "\n",
    "    if(pathOn != row[\"pathIni\"]):\n",
    "        totalTime = 0\n",
    "        pathOn = row[\"pathIni\"]\n",
    "\n",
    "    totalTime += row[\"timeStep\"]\n",
    "    dataTrain.iloc[i, dataTrain.columns.get_loc(\"pathTime\")] = totalTime\n",
    "\n",
    "dataVal[\"pathTime\"] = 0\n",
    "pathOn = -1\n",
    "totalTime = 0\n",
    "\n",
    "for i in range(len(dataVal[\"pathTime\"])):\n",
    "    row = dataVal.iloc[i]\n",
    "\n",
    "    if(pathOn != row[\"pathIni\"]):\n",
    "        totalTime = 0\n",
    "        pathOn = row[\"pathIni\"]\n",
    "\n",
    "    totalTime += row[\"timeStep\"]\n",
    "    dataVal.iloc[i, dataVal.columns.get_loc(\"pathTime\")] = totalTime\n",
    "\n",
    "dataTest[\"pathTime\"] = 0\n",
    "pathOn = -1\n",
    "totalTime = 0\n",
    "\n",
    "for i in range(len(dataTest[\"pathTime\"])):\n",
    "    row = dataTest.iloc[i]\n",
    "\n",
    "    if(pathOn != row[\"pathIni\"]):\n",
    "        totalTime = 0\n",
    "        pathOn = row[\"pathIni\"]\n",
    "\n",
    "    totalTime += row[\"timeStep\"]\n",
    "    dataTest.iloc[i, dataTest.columns.get_loc(\"pathTime\")] = totalTime\n",
    "\n"
   ]
  },
  {
   "cell_type": "code",
   "execution_count": 23,
   "metadata": {},
   "outputs": [
    {
     "name": "stdout",
     "output_type": "stream",
     "text": [
      "301139\n",
      "240439\n",
      "333362\n"
     ]
    }
   ],
   "source": [
    "print(max(dataTrain[\"pathTime\"]))\n",
    "print(max(dataVal[\"pathTime\"]))\n",
    "print(max(dataTest[\"pathTime\"]))"
   ]
  },
  {
   "cell_type": "code",
   "execution_count": 24,
   "metadata": {},
   "outputs": [
    {
     "name": "stderr",
     "output_type": "stream",
     "text": [
      "C:\\Users\\DSU\\AppData\\Local\\Temp\\ipykernel_25996\\3041435424.py:6: FutureWarning: Setting an item of incompatible dtype is deprecated and will raise an error in a future version of pandas. Value '0.0017314285714285715' has dtype incompatible with int64, please explicitly cast to a compatible dtype first.\n",
      "  dataTrain.iloc[i, dataTrain.columns.get_loc(\"pathTime\")] = row[\"pathTime\"] / norm\n",
      "C:\\Users\\DSU\\AppData\\Local\\Temp\\ipykernel_25996\\3041435424.py:10: FutureWarning: Setting an item of incompatible dtype is deprecated and will raise an error in a future version of pandas. Value '0.001577142857142857' has dtype incompatible with int64, please explicitly cast to a compatible dtype first.\n",
      "  dataVal.iloc[i, dataVal.columns.get_loc(\"pathTime\")] = row[\"pathTime\"] / norm\n",
      "C:\\Users\\DSU\\AppData\\Local\\Temp\\ipykernel_25996\\3041435424.py:14: FutureWarning: Setting an item of incompatible dtype is deprecated and will raise an error in a future version of pandas. Value '0.0017428571428571428' has dtype incompatible with int64, please explicitly cast to a compatible dtype first.\n",
      "  dataTest.iloc[i, dataTest.columns.get_loc(\"pathTime\")] = row[\"pathTime\"] / norm\n"
     ]
    }
   ],
   "source": [
    "# I chose 350000 to normalize\n",
    "norm = 350000\n",
    "\n",
    "for i in range(len(dataTrain[\"pathTime\"])):\n",
    "    row = dataTrain.iloc[i]\n",
    "    dataTrain.iloc[i, dataTrain.columns.get_loc(\"pathTime\")] = row[\"pathTime\"] / norm\n",
    "\n",
    "for i in range(len(dataVal[\"pathTime\"])):\n",
    "    row = dataVal.iloc[i]\n",
    "    dataVal.iloc[i, dataVal.columns.get_loc(\"pathTime\")] = row[\"pathTime\"] / norm\n",
    "\n",
    "for i in range(len(dataTest[\"pathTime\"])):\n",
    "    row = dataTest.iloc[i]\n",
    "    dataTest.iloc[i, dataTest.columns.get_loc(\"pathTime\")] = row[\"pathTime\"] / norm"
   ]
  },
  {
   "cell_type": "markdown",
   "metadata": {},
   "source": [
    "# Save to CSV to use for Pickling"
   ]
  },
  {
   "cell_type": "code",
   "execution_count": 25,
   "metadata": {},
   "outputs": [],
   "source": [
    "dataTrain.to_csv(\"marineDataTrain.csv\", index=False)\n",
    "dataVal.to_csv(\"marineDataVal.csv\", index=False)\n",
    "dataTest.to_csv(\"marineDataTest.csv\", index=False)"
   ]
  },
  {
   "cell_type": "markdown",
   "metadata": {},
   "source": [
    "# Now use CSV's to pickle the data\n",
    "Storing as a 2d dictionary, of the format:\n",
    "{'mmsi': #######, 'traj': array([[lat, lon, speed, heading, timestamp, mmsi], ...])}\n",
    "Indexing is based on pathIni"
   ]
  },
  {
   "cell_type": "code",
   "execution_count": 36,
   "metadata": {},
   "outputs": [
    {
     "name": "stdout",
     "output_type": "stream",
     "text": [
      "hello\n",
      "Reading  marineTestMoving.csv ...\n",
      "89340\n",
      "Number of msgs in the training set:  0\n",
      "Number of msgs in the validation set:  0\n",
      "Number of msgs in the test set:  89340\n",
      "Convert to dicts of vessel's tracks...\n"
     ]
    },
    {
     "name": "stderr",
     "output_type": "stream",
     "text": [
      "100%|██████████| 89340/89340 [00:01<00:00, 74627.69it/s] \n",
      "100%|██████████| 1195/1195 [00:00<00:00, 22301.29it/s]"
     ]
    },
    {
     "name": "stdout",
     "output_type": "stream",
     "text": [
      "Writing to  C:\\Users\\DSU\\Desktop\\AllCurrentClasses\\AISweden\\FinalDeliverable\\marineTestMovingS.pkl ...\n",
      "Total number of tracks:  1195  for  marineTestMovingS.pkl\n"
     ]
    },
    {
     "name": "stderr",
     "output_type": "stream",
     "text": [
      "\n"
     ]
    }
   ],
   "source": [
    "# Pickle time\n",
    "from Pickling import PickleData\n",
    "PickleData(\"C:\\\\Users\\\\DSU\\\\Desktop\\\\AllCurrentClasses\\\\AISweden\\\\FinalDeliverable\\\\\", \"marineDataTrain.csv\", \"marineDataVal.csv\", \"marineDataTest.csv\", \"marineTrainS.pkl\", \"marineValS.pkl\", \"marineTestS.pkl\")"
   ]
  },
  {
   "cell_type": "code",
   "execution_count": null,
   "metadata": {},
   "outputs": [],
   "source": [
    "# Step for unmoving path removal\n",
    "pathE = []\n",
    "for i in range(max(testData[\"pathIni\"])):\n",
    "    # cycle through all paths\n",
    "    grab = testData[testData[\"pathIni\"] == i]\n",
    "    grab2 = grab[grab[\"speed\"] > 0.5]\n",
    "    if(len(grab2[\"speed\"]) < 8):\n",
    "        # at least 8 points with min speed\n",
    "        pathE.append(i)\n",
    "\n",
    "testData[\"Elim\"] = 0\n",
    "print(\"Points to iterate through: \", len(testData[\"mmsi\"]))\n",
    "\n",
    "indexT = 0\n",
    "for i in range(len(testData[\"mmsi\"])):\n",
    "    # cycle through all points\n",
    "    row = testData.iloc[i]\n",
    "\n",
    "    if(row[\"pathIni\"] > pathE[indexT]):\n",
    "        indexT += 1\n",
    "    if(row[\"pathIni\"] == pathE[indexT]):\n",
    "        testData.iloc[i, testData.columns.get_loc(\"Elim\")] = 1\n",
    "    if(i % 10000 == 0):\n",
    "        print(\"Points completed: \", i)\n",
    "\n",
    "# Keep only data not set to be eliminated\n",
    "testData = testData[testData[\"Elim\"] == 0]"
   ]
  }
 ],
 "metadata": {
  "kernelspec": {
   "display_name": "base",
   "language": "python",
   "name": "python3"
  },
  "language_info": {
   "codemirror_mode": {
    "name": "ipython",
    "version": 3
   },
   "file_extension": ".py",
   "mimetype": "text/x-python",
   "name": "python",
   "nbconvert_exporter": "python",
   "pygments_lexer": "ipython3",
   "version": "3.12.3"
  }
 },
 "nbformat": 4,
 "nbformat_minor": 2
}
